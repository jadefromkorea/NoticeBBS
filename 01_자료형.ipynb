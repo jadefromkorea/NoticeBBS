{
  "nbformat": 4,
  "nbformat_minor": 0,
  "metadata": {
    "kernelspec": {
      "display_name": "Python 3",
      "language": "python",
      "name": "python3"
    },
    "language_info": {
      "codemirror_mode": {
        "name": "ipython",
        "version": 3
      },
      "file_extension": ".py",
      "mimetype": "text/x-python",
      "name": "python",
      "nbconvert_exporter": "python",
      "pygments_lexer": "ipython3",
      "version": "3.7.7"
    },
    "colab": {
      "name": "01_자료형.ipynb",
      "provenance": [],
      "include_colab_link": true
    }
  },
  "cells": [
    {
      "cell_type": "markdown",
      "metadata": {
        "id": "view-in-github",
        "colab_type": "text"
      },
      "source": [
        "<a href=\"https://colab.research.google.com/github/jadefromkorea/NoticeBBS/blob/master/01_%EC%9E%90%EB%A3%8C%ED%98%95.ipynb\" target=\"_parent\"><img src=\"https://colab.research.google.com/assets/colab-badge.svg\" alt=\"Open In Colab\"/></a>"
      ]
    },
    {
      "cell_type": "markdown",
      "metadata": {
        "id": "fZtCqz3iT2j6"
      },
      "source": [
        "실행시에는 \n",
        "1. SHIFT + ENTER (실행 이후 라인 다음 셀로 이동, 다음 셀이 없을 경우 새로운 셀 생성 이후 이동)\n",
        "2. Ctrl + ENTER (해당 셀 실행)\n",
        "\n",
        "을 입력 합니다."
      ]
    },
    {
      "cell_type": "markdown",
      "metadata": {
        "id": "0FM3DF0hT2j8"
      },
      "source": [
        "- python 은 들여쓰기에 민감합니다. 아래와 같은 에러가 발생하였을 경우 들여쓰기를 확인해 줍니다."
      ]
    },
    {
      "cell_type": "code",
      "metadata": {
        "id": "9X6g7M_9T2j9",
        "colab": {
          "base_uri": "https://localhost:8080/"
        },
        "outputId": "bf4139be-3dc7-46a9-9d1a-2114881f1764"
      },
      "source": [
        "a = 1\n",
        "print(a)"
      ],
      "execution_count": null,
      "outputs": [
        {
          "output_type": "stream",
          "text": [
            "1\n"
          ],
          "name": "stdout"
        }
      ]
    },
    {
      "cell_type": "markdown",
      "metadata": {
        "id": "FgtNerx0T2j-"
      },
      "source": [
        "- 주석은 # 또는 ''' ''' 로 구문을 감싸주어 만들수 있습니다."
      ]
    },
    {
      "cell_type": "code",
      "metadata": {
        "id": "PHJZNzlhT2j-"
      },
      "source": [
        "# 안녕하세요\n",
        "# b = 2"
      ],
      "execution_count": null,
      "outputs": []
    },
    {
      "cell_type": "code",
      "metadata": {
        "id": "YbeyN68JT2j_",
        "colab": {
          "base_uri": "https://localhost:8080/",
          "height": 35
        },
        "outputId": "59f0fd28-1906-4830-bbb6-9534cccc85f9"
      },
      "source": [
        "'''\n",
        "안녕하세요\n",
        "b = 2\n",
        "'''"
      ],
      "execution_count": null,
      "outputs": [
        {
          "output_type": "execute_result",
          "data": {
            "application/vnd.google.colaboratory.intrinsic+json": {
              "type": "string"
            },
            "text/plain": [
              "'\\n안녕하세요\\nb = 2\\n'"
            ]
          },
          "metadata": {
            "tags": []
          },
          "execution_count": 2
        }
      ]
    },
    {
      "cell_type": "code",
      "metadata": {
        "id": "vRiAQuhpT2j_"
      },
      "source": [
        "a = '''\n",
        "안녕하세요\n",
        "hellow world\n",
        "'''"
      ],
      "execution_count": null,
      "outputs": []
    },
    {
      "cell_type": "code",
      "metadata": {
        "id": "4iOQ7EuNT2j_",
        "outputId": "16da3f77-b6a8-4c95-fbc0-39555e20c63e"
      },
      "source": [
        "print(a)"
      ],
      "execution_count": null,
      "outputs": [
        {
          "output_type": "stream",
          "text": [
            "\n",
            "안녕하세요\n",
            "hellow world\n",
            "\n"
          ],
          "name": "stdout"
        }
      ]
    },
    {
      "cell_type": "markdown",
      "metadata": {
        "id": "fl572rQFT2kA"
      },
      "source": [
        "# 1. 숫자"
      ]
    },
    {
      "cell_type": "markdown",
      "metadata": {
        "id": "VQztMK1vT2kA"
      },
      "source": [
        "- 변수 선언시 타입을 지정하지 않아도 자동으로 지정이 됩니다."
      ]
    },
    {
      "cell_type": "markdown",
      "metadata": {
        "id": "6iLshoBRT2kA"
      },
      "source": [
        "## 1) int"
      ]
    },
    {
      "cell_type": "code",
      "metadata": {
        "id": "_BE4ls_eT2kB"
      },
      "source": [
        "a = 1"
      ],
      "execution_count": null,
      "outputs": []
    },
    {
      "cell_type": "code",
      "metadata": {
        "id": "GTKOTDlZT2kB",
        "colab": {
          "base_uri": "https://localhost:8080/"
        },
        "outputId": "dc5118d5-7043-423f-e6e0-6715dc19690a"
      },
      "source": [
        "print(type(a))"
      ],
      "execution_count": null,
      "outputs": [
        {
          "output_type": "stream",
          "text": [
            "<class 'int'>\n"
          ],
          "name": "stdout"
        }
      ]
    },
    {
      "cell_type": "markdown",
      "metadata": {
        "id": "Dt_cCUkXT2kB"
      },
      "source": [
        "## 2) float"
      ]
    },
    {
      "cell_type": "code",
      "metadata": {
        "id": "ijgleueYT2kB"
      },
      "source": [
        "b = 1.1"
      ],
      "execution_count": null,
      "outputs": []
    },
    {
      "cell_type": "code",
      "metadata": {
        "id": "JiBRwXy2T2kC",
        "colab": {
          "base_uri": "https://localhost:8080/"
        },
        "outputId": "ae92f2ba-ab85-44f6-a2e8-120f6c38d05f"
      },
      "source": [
        "print(type(b))"
      ],
      "execution_count": null,
      "outputs": [
        {
          "output_type": "stream",
          "text": [
            "<class 'float'>\n"
          ],
          "name": "stdout"
        }
      ]
    },
    {
      "cell_type": "markdown",
      "metadata": {
        "id": "cda4Oq39T2kC"
      },
      "source": [
        "## 3) int + float ?"
      ]
    },
    {
      "cell_type": "code",
      "metadata": {
        "id": "4r5mFTwYT2kC"
      },
      "source": [
        "c = a + b"
      ],
      "execution_count": null,
      "outputs": []
    },
    {
      "cell_type": "code",
      "metadata": {
        "id": "r7VilfTCT2kC",
        "colab": {
          "base_uri": "https://localhost:8080/"
        },
        "outputId": "2f654593-95cd-46f2-9108-c896b7ff9294"
      },
      "source": [
        "print(type(c))"
      ],
      "execution_count": null,
      "outputs": [
        {
          "output_type": "stream",
          "text": [
            "<class 'float'>\n"
          ],
          "name": "stdout"
        }
      ]
    },
    {
      "cell_type": "markdown",
      "metadata": {
        "id": "xnmNRFC7T2kD"
      },
      "source": [
        "## 4) 연산"
      ]
    },
    {
      "cell_type": "markdown",
      "metadata": {
        "id": "zNfhep_qT2kD"
      },
      "source": [
        "### (1) 더하기"
      ]
    },
    {
      "cell_type": "code",
      "metadata": {
        "id": "VR6qDmO9T2kD"
      },
      "source": [
        "a = 10\n",
        "b = 9"
      ],
      "execution_count": null,
      "outputs": []
    },
    {
      "cell_type": "code",
      "metadata": {
        "id": "sF8RNBOzT2kD",
        "colab": {
          "base_uri": "https://localhost:8080/"
        },
        "outputId": "da37c854-d2fe-4b48-9879-8aa0c48b0160"
      },
      "source": [
        "print(a + b)"
      ],
      "execution_count": null,
      "outputs": [
        {
          "output_type": "stream",
          "text": [
            "19\n"
          ],
          "name": "stdout"
        }
      ]
    },
    {
      "cell_type": "markdown",
      "metadata": {
        "id": "tdYx9nyST2kD"
      },
      "source": [
        "### (2) 빼기"
      ]
    },
    {
      "cell_type": "code",
      "metadata": {
        "id": "TL-Eap93T2kE"
      },
      "source": [
        "a = 10\n",
        "b = 7"
      ],
      "execution_count": null,
      "outputs": []
    },
    {
      "cell_type": "code",
      "metadata": {
        "id": "3EpQ8pE5T2kE",
        "outputId": "630f4331-a9b0-4106-d67e-680b6759352d"
      },
      "source": [
        "print(a - b)"
      ],
      "execution_count": null,
      "outputs": [
        {
          "output_type": "stream",
          "text": [
            "3\n"
          ],
          "name": "stdout"
        }
      ]
    },
    {
      "cell_type": "markdown",
      "metadata": {
        "id": "z1l_aIIxT2kE"
      },
      "source": [
        "### (3) 곱하기"
      ]
    },
    {
      "cell_type": "code",
      "metadata": {
        "id": "vK1eyEa3T2kE"
      },
      "source": [
        "a = 10\n",
        "b = 7"
      ],
      "execution_count": null,
      "outputs": []
    },
    {
      "cell_type": "code",
      "metadata": {
        "id": "0HV50jKhT2kE",
        "outputId": "3c968d98-a820-4b63-c64a-ec4d5b328497"
      },
      "source": [
        "print(a * b)"
      ],
      "execution_count": null,
      "outputs": [
        {
          "output_type": "stream",
          "text": [
            "70\n"
          ],
          "name": "stdout"
        }
      ]
    },
    {
      "cell_type": "markdown",
      "metadata": {
        "id": "UGf6tOcnT2kF"
      },
      "source": [
        "### (4) 나누기"
      ]
    },
    {
      "cell_type": "code",
      "metadata": {
        "id": "nXtK2nQRT2kF"
      },
      "source": [
        "a = 10\n",
        "b = 7"
      ],
      "execution_count": null,
      "outputs": []
    },
    {
      "cell_type": "code",
      "metadata": {
        "id": "o4xqY3HXT2kF",
        "outputId": "7e759fc3-1d6f-4290-b246-d5e3d84431f7"
      },
      "source": [
        "print(a / b)"
      ],
      "execution_count": null,
      "outputs": [
        {
          "output_type": "stream",
          "text": [
            "1.4285714285714286\n"
          ],
          "name": "stdout"
        }
      ]
    },
    {
      "cell_type": "markdown",
      "metadata": {
        "id": "4fE_RBJkT2kF"
      },
      "source": [
        "### (5) 몫"
      ]
    },
    {
      "cell_type": "code",
      "metadata": {
        "id": "-NiQ0kzMT2kF"
      },
      "source": [
        "a = 10\n",
        "b = 7"
      ],
      "execution_count": null,
      "outputs": []
    },
    {
      "cell_type": "code",
      "metadata": {
        "id": "4Vuu62GHT2kG",
        "outputId": "710711f8-8c14-43ed-c921-ca9871f2d378"
      },
      "source": [
        "print( a // b)"
      ],
      "execution_count": null,
      "outputs": [
        {
          "output_type": "stream",
          "text": [
            "1\n"
          ],
          "name": "stdout"
        }
      ]
    },
    {
      "cell_type": "markdown",
      "metadata": {
        "id": "P0sPlu3wT2kG"
      },
      "source": [
        "### (6) 나머지"
      ]
    },
    {
      "cell_type": "code",
      "metadata": {
        "id": "80bup2bhT2kG"
      },
      "source": [
        "a = 10\n",
        "b = 7"
      ],
      "execution_count": null,
      "outputs": []
    },
    {
      "cell_type": "code",
      "metadata": {
        "id": "P1-VYa_CT2kG",
        "outputId": "bdb816c4-72fa-4526-9992-794f025240ce"
      },
      "source": [
        "print(a % b)"
      ],
      "execution_count": null,
      "outputs": [
        {
          "output_type": "stream",
          "text": [
            "3\n"
          ],
          "name": "stdout"
        }
      ]
    },
    {
      "cell_type": "markdown",
      "metadata": {
        "id": "gbihOO8vT2kG"
      },
      "source": [
        "### (7) 제곱"
      ]
    },
    {
      "cell_type": "code",
      "metadata": {
        "id": "h-3nIumsT2kH"
      },
      "source": [
        "a = 10\n",
        "b = 7"
      ],
      "execution_count": null,
      "outputs": []
    },
    {
      "cell_type": "code",
      "metadata": {
        "id": "T8QaOgz0T2kH",
        "outputId": "8d1857d8-99a8-4c6b-bc0d-61be16528cf8"
      },
      "source": [
        "print(a ** b)"
      ],
      "execution_count": null,
      "outputs": [
        {
          "output_type": "stream",
          "text": [
            "10000000\n"
          ],
          "name": "stdout"
        }
      ]
    },
    {
      "cell_type": "markdown",
      "metadata": {
        "id": "uf63h356T2kH"
      },
      "source": [
        "### (8) 할당연산"
      ]
    },
    {
      "cell_type": "markdown",
      "metadata": {
        "id": "9gSQukitT2kI"
      },
      "source": [
        "- 더하기"
      ]
    },
    {
      "cell_type": "code",
      "metadata": {
        "id": "zElPf6zaT2kI",
        "outputId": "c7dc0163-7c3c-4412-de11-9c88801e51b2"
      },
      "source": [
        "a = 1\n",
        "a += 1\n",
        "# a = a + 1 와 동일\n",
        "print(a)"
      ],
      "execution_count": null,
      "outputs": [
        {
          "output_type": "stream",
          "text": [
            "2\n"
          ],
          "name": "stdout"
        }
      ]
    },
    {
      "cell_type": "markdown",
      "metadata": {
        "id": "G_8PD40oT2kI"
      },
      "source": [
        "- 빼기"
      ]
    },
    {
      "cell_type": "code",
      "metadata": {
        "id": "CTZati9zT2kI",
        "outputId": "657d9181-0fa4-471b-c57c-f17d70595d4f"
      },
      "source": [
        "a = 1\n",
        "a -= 1\n",
        "# a = a - 1 와 동일\n",
        "print(a)"
      ],
      "execution_count": null,
      "outputs": [
        {
          "output_type": "stream",
          "text": [
            "0\n"
          ],
          "name": "stdout"
        }
      ]
    },
    {
      "cell_type": "markdown",
      "metadata": {
        "id": "fbGWOPWoT2kJ"
      },
      "source": [
        "- 곱하기"
      ]
    },
    {
      "cell_type": "code",
      "metadata": {
        "id": "BdjFIy_8T2kJ",
        "outputId": "9dd91112-e704-40c0-efeb-ff20a9f1796a"
      },
      "source": [
        "a = 1\n",
        "a *= 2\n",
        "# a = a * 2 와 동일\n",
        "print(a)"
      ],
      "execution_count": null,
      "outputs": [
        {
          "output_type": "stream",
          "text": [
            "2\n"
          ],
          "name": "stdout"
        }
      ]
    },
    {
      "cell_type": "markdown",
      "metadata": {
        "id": "aPKTZNUeT2kJ"
      },
      "source": [
        "- 나누기"
      ]
    },
    {
      "cell_type": "code",
      "metadata": {
        "id": "FScFgyZkT2kJ",
        "outputId": "94fd2c5c-ac2b-4b80-daa0-1f713a310001"
      },
      "source": [
        "a = 1\n",
        "a /= 2\n",
        "# a = a / 2\n",
        "print(a)"
      ],
      "execution_count": null,
      "outputs": [
        {
          "output_type": "stream",
          "text": [
            "0.5\n"
          ],
          "name": "stdout"
        }
      ]
    },
    {
      "cell_type": "markdown",
      "metadata": {
        "id": "8inNOekVT2kJ"
      },
      "source": [
        "## 5) 형변환"
      ]
    },
    {
      "cell_type": "markdown",
      "metadata": {
        "id": "2ZwKRlG0T2kK"
      },
      "source": [
        "### (1) int -> float"
      ]
    },
    {
      "cell_type": "code",
      "metadata": {
        "id": "4dvrN73LT2kK"
      },
      "source": [
        "a = 1\n",
        "aa = float(a)"
      ],
      "execution_count": null,
      "outputs": []
    },
    {
      "cell_type": "code",
      "metadata": {
        "id": "zd8rht6zT2kK",
        "outputId": "227bf84d-b38b-47d1-8322-51997b135270"
      },
      "source": [
        "print(aa)\n",
        "print(type(aa))"
      ],
      "execution_count": null,
      "outputs": [
        {
          "output_type": "stream",
          "text": [
            "1.0\n",
            "<class 'float'>\n"
          ],
          "name": "stdout"
        }
      ]
    },
    {
      "cell_type": "markdown",
      "metadata": {
        "id": "F2EVXjtjT2kK"
      },
      "source": [
        "### (2) int -> str"
      ]
    },
    {
      "cell_type": "code",
      "metadata": {
        "id": "vNF8VfvsT2kK"
      },
      "source": [
        "a = 1\n",
        "aa = str(a)"
      ],
      "execution_count": null,
      "outputs": []
    },
    {
      "cell_type": "code",
      "metadata": {
        "id": "pOjZ6iIBT2kK",
        "outputId": "f07a0237-b82b-4edf-8f55-1db772bb1f70"
      },
      "source": [
        "print(aa)\n",
        "print(type(aa))"
      ],
      "execution_count": null,
      "outputs": [
        {
          "output_type": "stream",
          "text": [
            "1\n",
            "<class 'str'>\n"
          ],
          "name": "stdout"
        }
      ]
    },
    {
      "cell_type": "markdown",
      "metadata": {
        "id": "VV3Sivj9T2kL"
      },
      "source": [
        "## 3) str -> int"
      ]
    },
    {
      "cell_type": "code",
      "metadata": {
        "id": "ldV3Kf08T2kL"
      },
      "source": [
        "a = '1'\n",
        "aa = int(aa)"
      ],
      "execution_count": null,
      "outputs": []
    },
    {
      "cell_type": "code",
      "metadata": {
        "id": "Yvac9mxVT2kL",
        "outputId": "2879163f-d4c0-411d-cda2-b6a0d7562166"
      },
      "source": [
        "print(aa)\n",
        "print(type(aa))"
      ],
      "execution_count": null,
      "outputs": [
        {
          "output_type": "stream",
          "text": [
            "1\n",
            "<class 'int'>\n"
          ],
          "name": "stdout"
        }
      ]
    },
    {
      "cell_type": "code",
      "metadata": {
        "id": "mskg9cTNT2kL",
        "outputId": "3f3cbad3-9b3f-4368-d690-52a604756c9e"
      },
      "source": [
        "a = 'hellow world'\n",
        "aa = int(a)"
      ],
      "execution_count": null,
      "outputs": [
        {
          "output_type": "error",
          "ename": "ValueError",
          "evalue": "invalid literal for int() with base 10: 'hellow world'",
          "traceback": [
            "\u001b[0;31m---------------------------------------------------------------------------\u001b[0m",
            "\u001b[0;31mValueError\u001b[0m                                Traceback (most recent call last)",
            "\u001b[0;32m<ipython-input-41-0e76381ca3b9>\u001b[0m in \u001b[0;36m<module>\u001b[0;34m\u001b[0m\n\u001b[1;32m      1\u001b[0m \u001b[0ma\u001b[0m \u001b[0;34m=\u001b[0m \u001b[0;34m'hellow world'\u001b[0m\u001b[0;34m\u001b[0m\u001b[0;34m\u001b[0m\u001b[0m\n\u001b[0;32m----> 2\u001b[0;31m \u001b[0maa\u001b[0m \u001b[0;34m=\u001b[0m \u001b[0mint\u001b[0m\u001b[0;34m(\u001b[0m\u001b[0ma\u001b[0m\u001b[0;34m)\u001b[0m\u001b[0;34m\u001b[0m\u001b[0;34m\u001b[0m\u001b[0m\n\u001b[0m",
            "\u001b[0;31mValueError\u001b[0m: invalid literal for int() with base 10: 'hellow world'"
          ]
        }
      ]
    },
    {
      "cell_type": "markdown",
      "metadata": {
        "id": "RsJFBEaGT2kL"
      },
      "source": [
        "# 2. 문자"
      ]
    },
    {
      "cell_type": "markdown",
      "metadata": {
        "id": "yjBie82xT2kM"
      },
      "source": [
        "## 1) 인덱스"
      ]
    },
    {
      "cell_type": "code",
      "metadata": {
        "id": "bZ7ICl8tT2kM"
      },
      "source": [
        "a = 'hellow world'"
      ],
      "execution_count": null,
      "outputs": []
    },
    {
      "cell_type": "markdown",
      "metadata": {
        "id": "cxStoqPQT2kM"
      },
      "source": [
        "- 인덱스는 []를 통해 지정해 줄 수 있으며, 0부터 시작합니다."
      ]
    },
    {
      "cell_type": "code",
      "metadata": {
        "id": "CZT0anENT2kM",
        "outputId": "db1a5091-944a-4a84-e9d1-21bd33ef8b2c"
      },
      "source": [
        "print(a[0])"
      ],
      "execution_count": null,
      "outputs": [
        {
          "output_type": "stream",
          "text": [
            "h\n"
          ],
          "name": "stdout"
        }
      ]
    },
    {
      "cell_type": "markdown",
      "metadata": {
        "id": "m3uY_6XcT2kN"
      },
      "source": [
        "- : 를 이용하여 전체를 나타내 줄 수 있습니다."
      ]
    },
    {
      "cell_type": "code",
      "metadata": {
        "id": "sbkVeoOWT2kN",
        "outputId": "44978873-c55b-4705-a19b-fdd43b552f63"
      },
      "source": [
        "print(a[:])"
      ],
      "execution_count": null,
      "outputs": [
        {
          "output_type": "stream",
          "text": [
            "hellow world\n"
          ],
          "name": "stdout"
        }
      ]
    },
    {
      "cell_type": "markdown",
      "metadata": {
        "id": "O1qeDYYLT2kO"
      },
      "source": [
        "## 2) 슬라이스"
      ]
    },
    {
      "cell_type": "markdown",
      "metadata": {
        "id": "c0nJKEw7T2kP"
      },
      "source": [
        "- 범위를 지정하여 원하는 부분만을 얻을 수 있습니다.\n",
        "- 이상, 미만 입니다."
      ]
    },
    {
      "cell_type": "code",
      "metadata": {
        "id": "jIe4AD2JT2kQ"
      },
      "source": [
        "a = 'hellow world'"
      ],
      "execution_count": null,
      "outputs": []
    },
    {
      "cell_type": "code",
      "metadata": {
        "id": "fnKxhqVXT2kR",
        "outputId": "e672b46c-b632-4c4d-c3f4-f91502ef80a4"
      },
      "source": [
        "print(a[2:3])"
      ],
      "execution_count": null,
      "outputs": [
        {
          "output_type": "stream",
          "text": [
            "l\n"
          ],
          "name": "stdout"
        }
      ]
    },
    {
      "cell_type": "code",
      "metadata": {
        "id": "VnYVfk21T2kS",
        "outputId": "11a13a9f-bcd5-4db9-931e-e3d28e8ff8d7"
      },
      "source": [
        "print(a[2:4])"
      ],
      "execution_count": null,
      "outputs": [
        {
          "output_type": "stream",
          "text": [
            "ll\n"
          ],
          "name": "stdout"
        }
      ]
    },
    {
      "cell_type": "code",
      "metadata": {
        "id": "NLgFhlyTT2kT",
        "outputId": "d574bcf9-8303-4cd8-8e9c-4b13aaf902ae"
      },
      "source": [
        "print(a[2:])"
      ],
      "execution_count": null,
      "outputs": [
        {
          "output_type": "stream",
          "text": [
            "llow world\n"
          ],
          "name": "stdout"
        }
      ]
    },
    {
      "cell_type": "markdown",
      "metadata": {
        "id": "n7IQqadYT2kU"
      },
      "source": [
        "- -부호를 붙이면 뒤에서부터 지정합니다."
      ]
    },
    {
      "cell_type": "code",
      "metadata": {
        "id": "r3kshstxT2kV",
        "outputId": "39bf22b8-f8c1-4e6d-dadb-f3804dfc87b6"
      },
      "source": [
        "print(a[:-2])"
      ],
      "execution_count": null,
      "outputs": [
        {
          "output_type": "stream",
          "text": [
            "hellow wor\n"
          ],
          "name": "stdout"
        }
      ]
    },
    {
      "cell_type": "code",
      "metadata": {
        "id": "oL9_GPncT2kV",
        "outputId": "6b5c0748-e989-4620-96de-655b9aff461c"
      },
      "source": [
        "print(a[-2:])"
      ],
      "execution_count": null,
      "outputs": [
        {
          "output_type": "stream",
          "text": [
            "ld\n"
          ],
          "name": "stdout"
        }
      ]
    },
    {
      "cell_type": "markdown",
      "metadata": {
        "id": "02weZHQRT2kW"
      },
      "source": [
        "## 3) 문자열 더하기"
      ]
    },
    {
      "cell_type": "code",
      "metadata": {
        "id": "Y4e3vQ41T2kW"
      },
      "source": [
        "a = 'hellow world'"
      ],
      "execution_count": null,
      "outputs": []
    },
    {
      "cell_type": "code",
      "metadata": {
        "id": "h56SH6R5T2kX",
        "outputId": "fc6faffd-52ea-48a6-b4ee-5be3a4f45c9e"
      },
      "source": [
        "print(a + a)"
      ],
      "execution_count": null,
      "outputs": [
        {
          "output_type": "stream",
          "text": [
            "hellow worldhellow world\n"
          ],
          "name": "stdout"
        }
      ]
    },
    {
      "cell_type": "markdown",
      "metadata": {
        "id": "yFQnHs39T2kY"
      },
      "source": [
        "## 4) 문자열 곱하기"
      ]
    },
    {
      "cell_type": "code",
      "metadata": {
        "id": "P8bu_8SkT2kY",
        "outputId": "ae38df96-e336-4894-ae0a-d90c82ea073d"
      },
      "source": [
        "print(a * 2)"
      ],
      "execution_count": null,
      "outputs": [
        {
          "output_type": "stream",
          "text": [
            "hellow worldhellow world\n"
          ],
          "name": "stdout"
        }
      ]
    },
    {
      "cell_type": "markdown",
      "metadata": {
        "id": "TFOJ1c6ET2kZ"
      },
      "source": [
        "## 5) 문자열 나누기"
      ]
    },
    {
      "cell_type": "code",
      "metadata": {
        "id": "uLQVRnkMT2kZ"
      },
      "source": [
        "a = 'hellow world'"
      ],
      "execution_count": null,
      "outputs": []
    },
    {
      "cell_type": "code",
      "metadata": {
        "id": "ZuHBCDC5T2kZ",
        "outputId": "29417196-f6c8-4f6f-e659-8ffbbd500139"
      },
      "source": [
        "a.split()"
      ],
      "execution_count": null,
      "outputs": [
        {
          "output_type": "execute_result",
          "data": {
            "text/plain": [
              "['hellow', 'world']"
            ]
          },
          "metadata": {
            "tags": []
          },
          "execution_count": 92
        }
      ]
    },
    {
      "cell_type": "code",
      "metadata": {
        "id": "fg5UhBDJT2ka"
      },
      "source": [
        "b = 'hellow.world.'"
      ],
      "execution_count": null,
      "outputs": []
    },
    {
      "cell_type": "code",
      "metadata": {
        "id": "o1mrSCmoT2ka",
        "outputId": "8084a367-282a-4690-ad79-f1c0b9b0e846"
      },
      "source": [
        "b.split('.')"
      ],
      "execution_count": null,
      "outputs": [
        {
          "output_type": "execute_result",
          "data": {
            "text/plain": [
              "['hellow', 'world', '']"
            ]
          },
          "metadata": {
            "tags": []
          },
          "execution_count": 94
        }
      ]
    },
    {
      "cell_type": "markdown",
      "metadata": {
        "id": "VZFiOkHPT2kb"
      },
      "source": [
        "# 3. 리스트"
      ]
    },
    {
      "cell_type": "markdown",
      "metadata": {
        "id": "ZQz-unBlT2kb"
      },
      "source": [
        "## 1) 생성방법"
      ]
    },
    {
      "cell_type": "code",
      "metadata": {
        "id": "iK8SnjyFT2kc"
      },
      "source": [
        "a = [1, 2, 3]"
      ],
      "execution_count": null,
      "outputs": []
    },
    {
      "cell_type": "code",
      "metadata": {
        "id": "WkqjH029T2kc",
        "outputId": "baf1819f-dd24-4a2c-a522-38a6b60808bb"
      },
      "source": [
        "print(a)\n",
        "print(type(a))"
      ],
      "execution_count": null,
      "outputs": [
        {
          "output_type": "stream",
          "text": [
            "[1, 2, 3]\n",
            "<class 'list'>\n"
          ],
          "name": "stdout"
        }
      ]
    },
    {
      "cell_type": "markdown",
      "metadata": {
        "id": "TOSSOqE7T2kc"
      },
      "source": [
        "## 2) 인덱스"
      ]
    },
    {
      "cell_type": "code",
      "metadata": {
        "id": "vTXl0jGMT2kd",
        "outputId": "a061dfc7-d838-4b0f-df74-e5fc95669c85"
      },
      "source": [
        "print(a[0])"
      ],
      "execution_count": null,
      "outputs": [
        {
          "output_type": "stream",
          "text": [
            "1\n"
          ],
          "name": "stdout"
        }
      ]
    },
    {
      "cell_type": "markdown",
      "metadata": {
        "id": "yX79oNl8T2kd"
      },
      "source": [
        "## 3) 슬라이스"
      ]
    },
    {
      "cell_type": "code",
      "metadata": {
        "id": "-7AamJLWT2ke",
        "outputId": "051368f8-a41e-4813-af91-6bae27e4d162"
      },
      "source": [
        "print(a[:2])\n",
        "print(a[:-1])\n",
        "print(a[1:])"
      ],
      "execution_count": null,
      "outputs": [
        {
          "output_type": "stream",
          "text": [
            "[1, 2]\n",
            "[1, 2]\n",
            "[2, 3]\n"
          ],
          "name": "stdout"
        }
      ]
    },
    {
      "cell_type": "markdown",
      "metadata": {
        "id": "jUvDddM_T2kf"
      },
      "source": [
        "## 4) 치환하기"
      ]
    },
    {
      "cell_type": "code",
      "metadata": {
        "id": "71FUurvHT2kf"
      },
      "source": [
        "a = [1, 2, 3]"
      ],
      "execution_count": null,
      "outputs": []
    },
    {
      "cell_type": "code",
      "metadata": {
        "id": "YQUZTyh2T2kg",
        "outputId": "f95dabb7-cf3f-4e3c-9ba9-8990ee878997"
      },
      "source": [
        "a[2] = 10\n",
        "print(a)"
      ],
      "execution_count": null,
      "outputs": [
        {
          "output_type": "stream",
          "text": [
            "[1, 2, 10]\n"
          ],
          "name": "stdout"
        }
      ]
    },
    {
      "cell_type": "markdown",
      "metadata": {
        "id": "QF1EYztFT2kg"
      },
      "source": [
        "## 5) 리스트 구조"
      ]
    },
    {
      "cell_type": "code",
      "metadata": {
        "id": "uslFEPLAT2kg",
        "outputId": "1db5984a-7a6b-45d6-f6c1-08560ca136ca"
      },
      "source": [
        "b = [1, [1, 2], [1, [1, 2]]]\n",
        "print(b)"
      ],
      "execution_count": null,
      "outputs": [
        {
          "output_type": "stream",
          "text": [
            "[1, [1, 2], [1, [1, 2]]]\n"
          ],
          "name": "stdout"
        }
      ]
    },
    {
      "cell_type": "markdown",
      "metadata": {
        "id": "PmnZhTWzT2kh"
      },
      "source": [
        "![파이썬](./list.png)"
      ]
    },
    {
      "cell_type": "markdown",
      "metadata": {
        "id": "D-NqiB5CT2kh"
      },
      "source": [
        "## 6) 리스트 더하기"
      ]
    },
    {
      "cell_type": "code",
      "metadata": {
        "id": "BohGnJMYT2ki"
      },
      "source": [
        "a = [1, 2, 3]"
      ],
      "execution_count": null,
      "outputs": []
    },
    {
      "cell_type": "code",
      "metadata": {
        "id": "fKOJXdVET2ki",
        "outputId": "87422ccd-7fc3-411f-bc4e-5276ce2c0af0"
      },
      "source": [
        "print (a + a)"
      ],
      "execution_count": null,
      "outputs": [
        {
          "output_type": "stream",
          "text": [
            "[1, 2, 3, 1, 2, 3]\n"
          ],
          "name": "stdout"
        }
      ]
    },
    {
      "cell_type": "markdown",
      "metadata": {
        "id": "TWC_pjgbT2ki"
      },
      "source": [
        "## 7) 리스트 곱하기"
      ]
    },
    {
      "cell_type": "code",
      "metadata": {
        "id": "PKGFD26-T2kj"
      },
      "source": [
        "a = [1, 2, 3]"
      ],
      "execution_count": null,
      "outputs": []
    },
    {
      "cell_type": "code",
      "metadata": {
        "id": "lF3bEcNiT2kj",
        "outputId": "5d4bf41d-83a2-49e0-f8db-9f1fe7c4b2a4"
      },
      "source": [
        "print(a * 2)"
      ],
      "execution_count": null,
      "outputs": [
        {
          "output_type": "stream",
          "text": [
            "[1, 2, 3, 1, 2, 3]\n"
          ],
          "name": "stdout"
        }
      ]
    },
    {
      "cell_type": "markdown",
      "metadata": {
        "id": "Un1rOKUgT2kj"
      },
      "source": [
        "## 8) append"
      ]
    },
    {
      "cell_type": "code",
      "metadata": {
        "id": "_D1gIf-CT2kj"
      },
      "source": [
        "a = [1, 2, 3]"
      ],
      "execution_count": null,
      "outputs": []
    },
    {
      "cell_type": "code",
      "metadata": {
        "id": "N7LCeq3dT2kk"
      },
      "source": [
        "a.append(4)"
      ],
      "execution_count": null,
      "outputs": []
    },
    {
      "cell_type": "code",
      "metadata": {
        "id": "DAdlNAFIT2kk",
        "outputId": "59e87715-0480-4506-d249-16cc50546933"
      },
      "source": [
        "print(a)"
      ],
      "execution_count": null,
      "outputs": [
        {
          "output_type": "stream",
          "text": [
            "[1, 2, 3, 4]\n"
          ],
          "name": "stdout"
        }
      ]
    },
    {
      "cell_type": "markdown",
      "metadata": {
        "id": "ESYYCBpRT2kk"
      },
      "source": [
        "## 9) index"
      ]
    },
    {
      "cell_type": "markdown",
      "metadata": {
        "id": "qF434axrT2kk"
      },
      "source": [
        "- 리스트에 속해 있는 x의 위치 값 반환"
      ]
    },
    {
      "cell_type": "code",
      "metadata": {
        "id": "5Fc-HoInT2kl"
      },
      "source": [
        "a = [1, 2, 3]"
      ],
      "execution_count": null,
      "outputs": []
    },
    {
      "cell_type": "code",
      "metadata": {
        "id": "nYDE47q6T2kl",
        "outputId": "ce017499-5313-47cc-dc14-86fed063fafc"
      },
      "source": [
        "a.index(2)"
      ],
      "execution_count": null,
      "outputs": [
        {
          "output_type": "execute_result",
          "data": {
            "text/plain": [
              "1"
            ]
          },
          "metadata": {
            "tags": []
          },
          "execution_count": 119
        }
      ]
    },
    {
      "cell_type": "markdown",
      "metadata": {
        "id": "RymPqBQtT2kl"
      },
      "source": [
        "## 10) 리스트의 길이 구하기"
      ]
    },
    {
      "cell_type": "code",
      "metadata": {
        "id": "Vml57QSVT2km"
      },
      "source": [
        "a = [1, 2, 3]"
      ],
      "execution_count": null,
      "outputs": []
    },
    {
      "cell_type": "code",
      "metadata": {
        "id": "E8TDyfrtT2km",
        "outputId": "3e7b1275-0a2d-4d12-80bf-d1de65659d95"
      },
      "source": [
        "print(len(a))"
      ],
      "execution_count": null,
      "outputs": [
        {
          "output_type": "stream",
          "text": [
            "3\n"
          ],
          "name": "stdout"
        }
      ]
    },
    {
      "cell_type": "markdown",
      "metadata": {
        "id": "jYGtNwHPT2km"
      },
      "source": [
        "## 함수 이름이 생각 안 날때???"
      ]
    },
    {
      "cell_type": "code",
      "metadata": {
        "id": "64apW0XfT2km",
        "outputId": "b5f17f8a-5cd5-4c7c-e954-42021a1e42d9"
      },
      "source": [
        "이미지"
      ],
      "execution_count": null,
      "outputs": [
        {
          "output_type": "error",
          "ename": "NameError",
          "evalue": "name '이미지' is not defined",
          "traceback": [
            "\u001b[0;31m---------------------------------------------------------------------------\u001b[0m",
            "\u001b[0;31mNameError\u001b[0m                                 Traceback (most recent call last)",
            "\u001b[0;32m<ipython-input-137-d8d7d846c9f5>\u001b[0m in \u001b[0;36m<module>\u001b[0;34m\u001b[0m\n\u001b[0;32m----> 1\u001b[0;31m \u001b[0m이미지\u001b[0m\u001b[0;34m\u001b[0m\u001b[0;34m\u001b[0m\u001b[0m\n\u001b[0m",
            "\u001b[0;31mNameError\u001b[0m: name '이미지' is not defined"
          ]
        }
      ]
    },
    {
      "cell_type": "markdown",
      "metadata": {
        "id": "oWcBBlxGT2kn"
      },
      "source": [
        "# 4. 튜플"
      ]
    },
    {
      "cell_type": "markdown",
      "metadata": {
        "id": "_yNxBw7sT2kn"
      },
      "source": [
        "## 1) 생성방법"
      ]
    },
    {
      "cell_type": "code",
      "metadata": {
        "id": "44U6mobKT2kn"
      },
      "source": [
        "a = (1, 2, 3)"
      ],
      "execution_count": null,
      "outputs": []
    },
    {
      "cell_type": "code",
      "metadata": {
        "id": "bmU1s9mQT2kn",
        "outputId": "a52f0929-c5e4-4072-eb7f-096f50b69c7d"
      },
      "source": [
        "print(a)\n",
        "print(type(a))"
      ],
      "execution_count": null,
      "outputs": [
        {
          "output_type": "stream",
          "text": [
            "(1, 2, 3)\n",
            "<class 'tuple'>\n"
          ],
          "name": "stdout"
        }
      ]
    },
    {
      "cell_type": "markdown",
      "metadata": {
        "id": "8c_ZIq5aT2ko"
      },
      "source": [
        "## 2) 인덱스"
      ]
    },
    {
      "cell_type": "code",
      "metadata": {
        "id": "ysMJmMwNT2ko",
        "outputId": "84358842-6d5b-4ab1-ede1-2a1f82479604"
      },
      "source": [
        "print(a[0])"
      ],
      "execution_count": null,
      "outputs": [
        {
          "output_type": "stream",
          "text": [
            "1\n"
          ],
          "name": "stdout"
        }
      ]
    },
    {
      "cell_type": "markdown",
      "metadata": {
        "id": "dWtUXTWJT2ko"
      },
      "source": [
        "## 3) 슬라이스"
      ]
    },
    {
      "cell_type": "code",
      "metadata": {
        "id": "xHjhvujRT2ko",
        "outputId": "d6e21a68-787e-428c-9af0-567c8466ba66"
      },
      "source": [
        "print(a[:2])\n",
        "print(a[:-1])\n",
        "print(a[1:])"
      ],
      "execution_count": null,
      "outputs": [
        {
          "output_type": "stream",
          "text": [
            "(1, 2)\n",
            "(1, 2)\n",
            "(2, 3)\n"
          ],
          "name": "stdout"
        }
      ]
    },
    {
      "cell_type": "markdown",
      "metadata": {
        "id": "0aFRF2WzT2kp"
      },
      "source": [
        "## 4) 치환하기"
      ]
    },
    {
      "cell_type": "markdown",
      "metadata": {
        "id": "OS2McgAST2kp"
      },
      "source": [
        "- 튜플은 요소값의 변경이나 삭제가 불가"
      ]
    },
    {
      "cell_type": "code",
      "metadata": {
        "id": "DjjclvmsT2kp"
      },
      "source": [
        "a = (1, 2, 3)"
      ],
      "execution_count": null,
      "outputs": []
    },
    {
      "cell_type": "code",
      "metadata": {
        "id": "UrpDNTIYT2kp",
        "outputId": "3d221601-adf2-4c60-d5d3-adb642a8e63a"
      },
      "source": [
        "print(a[2])"
      ],
      "execution_count": null,
      "outputs": [
        {
          "output_type": "stream",
          "text": [
            "3\n"
          ],
          "name": "stdout"
        }
      ]
    },
    {
      "cell_type": "code",
      "metadata": {
        "id": "ysaoVCQZT2kq",
        "outputId": "b6ea64aa-3b29-45bb-9491-2e1876ca4c00"
      },
      "source": [
        "a[2] = 10\n",
        "print(a)"
      ],
      "execution_count": null,
      "outputs": [
        {
          "output_type": "error",
          "ename": "TypeError",
          "evalue": "'tuple' object does not support item assignment",
          "traceback": [
            "\u001b[0;31m---------------------------------------------------------------------------\u001b[0m",
            "\u001b[0;31mTypeError\u001b[0m                                 Traceback (most recent call last)",
            "\u001b[0;32m<ipython-input-127-7d10e8fd2858>\u001b[0m in \u001b[0;36m<module>\u001b[0;34m\u001b[0m\n\u001b[0;32m----> 1\u001b[0;31m \u001b[0ma\u001b[0m\u001b[0;34m[\u001b[0m\u001b[0;36m2\u001b[0m\u001b[0;34m]\u001b[0m \u001b[0;34m=\u001b[0m \u001b[0;36m10\u001b[0m\u001b[0;34m\u001b[0m\u001b[0;34m\u001b[0m\u001b[0m\n\u001b[0m\u001b[1;32m      2\u001b[0m \u001b[0mprint\u001b[0m\u001b[0;34m(\u001b[0m\u001b[0ma\u001b[0m\u001b[0;34m)\u001b[0m\u001b[0;34m\u001b[0m\u001b[0;34m\u001b[0m\u001b[0m\n",
            "\u001b[0;31mTypeError\u001b[0m: 'tuple' object does not support item assignment"
          ]
        }
      ]
    },
    {
      "cell_type": "markdown",
      "metadata": {
        "id": "U1WBTtAaT2kq"
      },
      "source": [
        "## 5) 튜플 더하기"
      ]
    },
    {
      "cell_type": "code",
      "metadata": {
        "id": "KJf9jNw3T2kq"
      },
      "source": [
        "a = (1, 2, 3)"
      ],
      "execution_count": null,
      "outputs": []
    },
    {
      "cell_type": "code",
      "metadata": {
        "id": "f6dER4U1T2kq",
        "outputId": "9fba7a9f-29f2-48a7-d8ab-22d996b082e3"
      },
      "source": [
        "print(a + a)"
      ],
      "execution_count": null,
      "outputs": [
        {
          "output_type": "stream",
          "text": [
            "(1, 2, 3, 1, 2, 3)\n"
          ],
          "name": "stdout"
        }
      ]
    },
    {
      "cell_type": "markdown",
      "metadata": {
        "id": "Wm99uEj0T2kr"
      },
      "source": [
        "## 6) 튜플 곱하기"
      ]
    },
    {
      "cell_type": "code",
      "metadata": {
        "id": "8IFHkRu8T2kr"
      },
      "source": [
        "a = (1, 2, 3)"
      ],
      "execution_count": null,
      "outputs": []
    },
    {
      "cell_type": "code",
      "metadata": {
        "id": "I2f2kMIiT2kr",
        "outputId": "22bd35bc-9f48-4813-826d-9abd4b30c508"
      },
      "source": [
        "print(a * 2)"
      ],
      "execution_count": null,
      "outputs": [
        {
          "output_type": "stream",
          "text": [
            "(1, 2, 3, 1, 2, 3)\n"
          ],
          "name": "stdout"
        }
      ]
    },
    {
      "cell_type": "markdown",
      "metadata": {
        "id": "NgfseYKoT2kr"
      },
      "source": [
        "## 7) 튜플의 길이 구하기"
      ]
    },
    {
      "cell_type": "code",
      "metadata": {
        "id": "RmAcL8VlT2ks"
      },
      "source": [
        "a = (1, 2, 3)"
      ],
      "execution_count": null,
      "outputs": []
    },
    {
      "cell_type": "code",
      "metadata": {
        "id": "hQMJzC_jT2ks",
        "outputId": "dd7f90c3-7060-4c7c-d3b8-09a51bff9560"
      },
      "source": [
        "print(len(a))"
      ],
      "execution_count": null,
      "outputs": [
        {
          "output_type": "stream",
          "text": [
            "3\n"
          ],
          "name": "stdout"
        }
      ]
    },
    {
      "cell_type": "markdown",
      "metadata": {
        "id": "IOZDGGW-T2ks"
      },
      "source": [
        "# 5. 딕셔너리"
      ]
    },
    {
      "cell_type": "markdown",
      "metadata": {
        "id": "SmNsHFz1T2ks"
      },
      "source": [
        "## 1) 생성방법"
      ]
    },
    {
      "cell_type": "markdown",
      "metadata": {
        "id": "5VnKQixQT2ks"
      },
      "source": [
        "- 딕셔너리(dict) 는 Key 와 Value 로 이루어 집니다."
      ]
    },
    {
      "cell_type": "code",
      "metadata": {
        "id": "M3DGw5HET2kt",
        "outputId": "7a180ab0-72f5-4aa2-c0ba-003bc386e421"
      },
      "source": [
        "그림"
      ],
      "execution_count": null,
      "outputs": [
        {
          "output_type": "error",
          "ename": "NameError",
          "evalue": "name '그림' is not defined",
          "traceback": [
            "\u001b[0;31m---------------------------------------------------------------------------\u001b[0m",
            "\u001b[0;31mNameError\u001b[0m                                 Traceback (most recent call last)",
            "\u001b[0;32m<ipython-input-139-85895a64c172>\u001b[0m in \u001b[0;36m<module>\u001b[0;34m\u001b[0m\n\u001b[0;32m----> 1\u001b[0;31m \u001b[0m그림\u001b[0m\u001b[0;34m\u001b[0m\u001b[0;34m\u001b[0m\u001b[0m\n\u001b[0m",
            "\u001b[0;31mNameError\u001b[0m: name '그림' is not defined"
          ]
        }
      ]
    },
    {
      "cell_type": "code",
      "metadata": {
        "id": "BWvJHLCDT2kt"
      },
      "source": [
        "dictionary = {'사자' : 'lion', '호랑이' : 'tiger', '용' : 'dragon'}"
      ],
      "execution_count": null,
      "outputs": []
    },
    {
      "cell_type": "code",
      "metadata": {
        "id": "wqiBTsW4T2kt",
        "outputId": "7169dbd9-ca27-4531-d9f6-550588131928"
      },
      "source": [
        "print(dictionary)\n",
        "print(type(dictionary))"
      ],
      "execution_count": null,
      "outputs": [
        {
          "output_type": "stream",
          "text": [
            "{'사자': 'lion', '호랑이': 'tiger', '용': 'dragon'}\n",
            "<class 'dict'>\n"
          ],
          "name": "stdout"
        }
      ]
    },
    {
      "cell_type": "code",
      "metadata": {
        "id": "eO03h5IhT2kt"
      },
      "source": [
        "a = {'car' : ['bus', 'truck', 'taxi'],\n",
        "    'train' : 'ktx'}"
      ],
      "execution_count": null,
      "outputs": []
    },
    {
      "cell_type": "code",
      "metadata": {
        "id": "T85xbrPsT2kt",
        "outputId": "7a6d5d26-64ad-4683-c39e-a37ba4b4912b"
      },
      "source": [
        "print(a)\n",
        "print(type(a))"
      ],
      "execution_count": null,
      "outputs": [
        {
          "output_type": "stream",
          "text": [
            "{'car': ['bus', 'truck', 'taxi'], 'train': 'ktx'}\n",
            "<class 'dict'>\n"
          ],
          "name": "stdout"
        }
      ]
    },
    {
      "cell_type": "markdown",
      "metadata": {
        "id": "Ia1BB1buT2ku"
      },
      "source": [
        "## 2) key 얻기"
      ]
    },
    {
      "cell_type": "code",
      "metadata": {
        "id": "zLaKx_mLT2ku"
      },
      "source": [
        "a = {'car' : ['bus', 'truck', 'taxi'],\n",
        "    'train' : 'ktx'}"
      ],
      "execution_count": null,
      "outputs": []
    },
    {
      "cell_type": "code",
      "metadata": {
        "id": "vZS9Id6tT2ku",
        "outputId": "014eca82-8965-4567-bf3f-6fcb55b57979"
      },
      "source": [
        "a.keys()"
      ],
      "execution_count": null,
      "outputs": [
        {
          "output_type": "execute_result",
          "data": {
            "text/plain": [
              "dict_keys(['car', 'train'])"
            ]
          },
          "metadata": {
            "tags": []
          },
          "execution_count": 162
        }
      ]
    },
    {
      "cell_type": "markdown",
      "metadata": {
        "id": "iBfT2opnT2kv"
      },
      "source": [
        "## 3) value 얻기"
      ]
    },
    {
      "cell_type": "code",
      "metadata": {
        "id": "mZnuvY0cT2kv"
      },
      "source": [
        "a = {'car' : ['bus', 'truck', 'taxi'],\n",
        "    'train' : 'ktx'}"
      ],
      "execution_count": null,
      "outputs": []
    },
    {
      "cell_type": "code",
      "metadata": {
        "id": "n4daQxxCT2kv",
        "outputId": "308fc55c-19ae-49be-a520-6dd74eda76d6"
      },
      "source": [
        "a.values()"
      ],
      "execution_count": null,
      "outputs": [
        {
          "output_type": "execute_result",
          "data": {
            "text/plain": [
              "dict_values([['bus', 'truck', 'taxi'], 'ktx'])"
            ]
          },
          "metadata": {
            "tags": []
          },
          "execution_count": 160
        }
      ]
    },
    {
      "cell_type": "markdown",
      "metadata": {
        "id": "b5Y8Z2BxT2kw"
      },
      "source": [
        "## 4) 요소 추가하기"
      ]
    },
    {
      "cell_type": "code",
      "metadata": {
        "id": "Z_iZoOA3T2kw"
      },
      "source": [
        "a['animal'] = ['monkey', 'tiger']"
      ],
      "execution_count": null,
      "outputs": []
    },
    {
      "cell_type": "code",
      "metadata": {
        "id": "O3bt7fPhT2kw",
        "outputId": "95c92098-d841-40b4-9d36-5a6f72c51103"
      },
      "source": [
        "print(a)"
      ],
      "execution_count": null,
      "outputs": [
        {
          "output_type": "stream",
          "text": [
            "{'car': ['bus', 'truck', 'taxi'], 'train': 'ktx', 'animal': ['monkey', 'tiger']}\n"
          ],
          "name": "stdout"
        }
      ]
    },
    {
      "cell_type": "markdown",
      "metadata": {
        "id": "GwVd4iggT2kw"
      },
      "source": [
        "## 5) 요소 삭제하기"
      ]
    },
    {
      "cell_type": "code",
      "metadata": {
        "id": "m4cqIoSuT2kx"
      },
      "source": [
        "del a['car']"
      ],
      "execution_count": null,
      "outputs": []
    },
    {
      "cell_type": "code",
      "metadata": {
        "id": "V1A6wubXT2kx",
        "outputId": "33c4c156-4cf5-41de-9e9a-552bf9a02497"
      },
      "source": [
        "print(a)"
      ],
      "execution_count": null,
      "outputs": [
        {
          "output_type": "stream",
          "text": [
            "{'train': 'ktx', 'animal': ['monkey', 'tiger']}\n"
          ],
          "name": "stdout"
        }
      ]
    },
    {
      "cell_type": "markdown",
      "metadata": {
        "id": "zcoxl8nbT2kx"
      },
      "source": [
        "# 6. 셋"
      ]
    },
    {
      "cell_type": "markdown",
      "metadata": {
        "id": "jCv5_3jbT2kx"
      },
      "source": [
        "- set은 집합 자료형이라고도 불리며, 집합에 관한 연산을 쉽게 하기 위해 만들어졌습니다."
      ]
    },
    {
      "cell_type": "markdown",
      "metadata": {
        "id": "7A3MEkfnT2kx"
      },
      "source": [
        "## 1) 생성방법"
      ]
    },
    {
      "cell_type": "code",
      "metadata": {
        "id": "NyxCN9u_T2ky"
      },
      "source": [
        "a = set([1, 2, 3])"
      ],
      "execution_count": null,
      "outputs": []
    },
    {
      "cell_type": "code",
      "metadata": {
        "id": "KUot7JC0T2ky",
        "outputId": "ffe986bb-f0bb-4762-9665-2b8429230854"
      },
      "source": [
        "print(a)\n",
        "print(type(a))"
      ],
      "execution_count": null,
      "outputs": [
        {
          "output_type": "stream",
          "text": [
            "{1, 2, 3}\n",
            "<class 'set'>\n"
          ],
          "name": "stdout"
        }
      ]
    },
    {
      "cell_type": "markdown",
      "metadata": {
        "id": "107KJLA6T2ky"
      },
      "source": [
        "- 중복된 항목을 없애줍니다."
      ]
    },
    {
      "cell_type": "code",
      "metadata": {
        "id": "1fPeoyshT2ky"
      },
      "source": [
        "a = set([1, 1, 2, 3])"
      ],
      "execution_count": null,
      "outputs": []
    },
    {
      "cell_type": "code",
      "metadata": {
        "id": "-HA3gYhLT2ky",
        "outputId": "a7da7cec-2e82-4e16-fbcd-d12c5e13532f"
      },
      "source": [
        "print(a)"
      ],
      "execution_count": null,
      "outputs": [
        {
          "output_type": "stream",
          "text": [
            "{1, 2, 3}\n"
          ],
          "name": "stdout"
        }
      ]
    },
    {
      "cell_type": "markdown",
      "metadata": {
        "id": "95V1VODIT2ky"
      },
      "source": [
        "- 순서가 없습니다."
      ]
    },
    {
      "cell_type": "code",
      "metadata": {
        "id": "OM4nhWjoT2kz"
      },
      "source": [
        "a = set([4, 3, 2, 1, 1])"
      ],
      "execution_count": null,
      "outputs": []
    },
    {
      "cell_type": "code",
      "metadata": {
        "id": "0ViLedHVT2kz",
        "outputId": "34e18429-5873-4a90-b35c-c1be59ad61e9"
      },
      "source": [
        "print(a)"
      ],
      "execution_count": null,
      "outputs": [
        {
          "output_type": "stream",
          "text": [
            "{1, 2, 3, 4}\n"
          ],
          "name": "stdout"
        }
      ]
    },
    {
      "cell_type": "markdown",
      "metadata": {
        "id": "Je4xMqvAT2kz"
      },
      "source": [
        "- 따라서 인덱스도 없습니다."
      ]
    },
    {
      "cell_type": "code",
      "metadata": {
        "id": "FODd9pA_T2kz",
        "outputId": "6090b656-9c62-4322-f584-44f0205cdea1"
      },
      "source": [
        "a[1]"
      ],
      "execution_count": null,
      "outputs": [
        {
          "output_type": "error",
          "ename": "TypeError",
          "evalue": "'set' object is not subscriptable",
          "traceback": [
            "\u001b[0;31m---------------------------------------------------------------------------\u001b[0m",
            "\u001b[0;31mTypeError\u001b[0m                                 Traceback (most recent call last)",
            "\u001b[0;32m<ipython-input-170-8bc71255a22e>\u001b[0m in \u001b[0;36m<module>\u001b[0;34m\u001b[0m\n\u001b[0;32m----> 1\u001b[0;31m \u001b[0ma\u001b[0m\u001b[0;34m[\u001b[0m\u001b[0;36m1\u001b[0m\u001b[0;34m]\u001b[0m\u001b[0;34m\u001b[0m\u001b[0;34m\u001b[0m\u001b[0m\n\u001b[0m",
            "\u001b[0;31mTypeError\u001b[0m: 'set' object is not subscriptable"
          ]
        }
      ]
    },
    {
      "cell_type": "markdown",
      "metadata": {
        "id": "VD1pbqv6T2kz"
      },
      "source": [
        "- 인덱스를 통해 접근을 하고 싶으면 tuple이나 list 형태로 형변환을 한 이후에 사용을 하면 됩니다."
      ]
    },
    {
      "cell_type": "code",
      "metadata": {
        "id": "EAivdtp-T2k0",
        "outputId": "615878d2-30dc-4b66-9e91-38b40336b4e8"
      },
      "source": [
        "a = set([4, 3, 2, 1, 1])\n",
        "a = list(a)\n",
        "print(a)\n",
        "print(a[1])"
      ],
      "execution_count": null,
      "outputs": [
        {
          "output_type": "stream",
          "text": [
            "[1, 2, 3, 4]\n",
            "2\n"
          ],
          "name": "stdout"
        }
      ]
    },
    {
      "cell_type": "markdown",
      "metadata": {
        "id": "VdlL7JtaT2k0"
      },
      "source": [
        "## 2) 합집합"
      ]
    },
    {
      "cell_type": "code",
      "metadata": {
        "id": "yuJ94N4TT2k0"
      },
      "source": [
        "a = set([1, 2, 3])\n",
        "b = set([3, 4, 5])"
      ],
      "execution_count": null,
      "outputs": []
    },
    {
      "cell_type": "code",
      "metadata": {
        "id": "OeqQ8TWlT2k0",
        "outputId": "190b399b-6bf1-4bc3-b481-f6d1aed52dc0"
      },
      "source": [
        "a.union(b)"
      ],
      "execution_count": null,
      "outputs": [
        {
          "output_type": "execute_result",
          "data": {
            "text/plain": [
              "{1, 2, 3, 4, 5}"
            ]
          },
          "metadata": {
            "tags": []
          },
          "execution_count": 174
        }
      ]
    },
    {
      "cell_type": "markdown",
      "metadata": {
        "id": "7MjbipfmT2k0"
      },
      "source": [
        "## 3) 교집합"
      ]
    },
    {
      "cell_type": "code",
      "metadata": {
        "id": "5A9vI84KT2k1"
      },
      "source": [
        "a = set([1, 2, 3])\n",
        "b = set([3, 4, 5])"
      ],
      "execution_count": null,
      "outputs": []
    },
    {
      "cell_type": "code",
      "metadata": {
        "id": "uDceXGx-T2k1",
        "outputId": "78184d3c-9f0a-4f10-fd2a-112884606693"
      },
      "source": [
        "a.intersection(b)"
      ],
      "execution_count": null,
      "outputs": [
        {
          "output_type": "execute_result",
          "data": {
            "text/plain": [
              "{3}"
            ]
          },
          "metadata": {
            "tags": []
          },
          "execution_count": 176
        }
      ]
    },
    {
      "cell_type": "markdown",
      "metadata": {
        "id": "L7mHL9QeT2k1"
      },
      "source": [
        "## 4) 차집합"
      ]
    },
    {
      "cell_type": "code",
      "metadata": {
        "id": "92TrmoaeT2k1"
      },
      "source": [
        "a = set([1, 2, 3])\n",
        "b = set([3, 4, 5])"
      ],
      "execution_count": null,
      "outputs": []
    },
    {
      "cell_type": "code",
      "metadata": {
        "id": "c_TMbBR2T2k2",
        "outputId": "6d34b96e-fccf-4505-a4c8-d519b979c1dc"
      },
      "source": [
        "a.difference(b)"
      ],
      "execution_count": null,
      "outputs": [
        {
          "output_type": "execute_result",
          "data": {
            "text/plain": [
              "{1, 2}"
            ]
          },
          "metadata": {
            "tags": []
          },
          "execution_count": 178
        }
      ]
    }
  ]
}